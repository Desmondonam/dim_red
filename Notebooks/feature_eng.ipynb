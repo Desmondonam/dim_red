{
 "cells": [
  {
   "cell_type": "markdown",
   "metadata": {},
   "source": [
    "#### calculate car age"
   ]
  },
  {
   "cell_type": "code",
   "execution_count": 1,
   "metadata": {},
   "outputs": [
    {
     "data": {
      "text/html": [
       "<div>\n",
       "<style scoped>\n",
       "    .dataframe tbody tr th:only-of-type {\n",
       "        vertical-align: middle;\n",
       "    }\n",
       "\n",
       "    .dataframe tbody tr th {\n",
       "        vertical-align: top;\n",
       "    }\n",
       "\n",
       "    .dataframe thead th {\n",
       "        text-align: right;\n",
       "    }\n",
       "</style>\n",
       "<table border=\"1\" class=\"dataframe\">\n",
       "  <thead>\n",
       "    <tr style=\"text-align: right;\">\n",
       "      <th></th>\n",
       "      <th>Company Name</th>\n",
       "      <th>Car Name</th>\n",
       "      <th>Variant</th>\n",
       "      <th>Fuel Type</th>\n",
       "      <th>Tyre Condition</th>\n",
       "      <th>Make Year</th>\n",
       "      <th>Owner Type</th>\n",
       "      <th>Registration Number</th>\n",
       "      <th>Mileage</th>\n",
       "      <th>Price</th>\n",
       "      <th>Transmission Type</th>\n",
       "      <th>Body Color</th>\n",
       "      <th>Service Record</th>\n",
       "      <th>Insurance</th>\n",
       "      <th>Registration Certificate</th>\n",
       "      <th>Accessories</th>\n",
       "    </tr>\n",
       "  </thead>\n",
       "  <tbody>\n",
       "    <tr>\n",
       "      <th>0</th>\n",
       "      <td>Maruti Suzuki</td>\n",
       "      <td>Cruze</td>\n",
       "      <td>EX</td>\n",
       "      <td>CNG</td>\n",
       "      <td>Needs Replacement</td>\n",
       "      <td>2018.0</td>\n",
       "      <td>Second</td>\n",
       "      <td>84-436-5584</td>\n",
       "      <td>52798.0</td>\n",
       "      <td>759107.0</td>\n",
       "      <td>Manual</td>\n",
       "      <td>Grey</td>\n",
       "      <td>Major Service at 50418 km</td>\n",
       "      <td>No Current Insurance</td>\n",
       "      <td>Not Available</td>\n",
       "      <td>Music System, Sunroof, Alloy Wheels</td>\n",
       "    </tr>\n",
       "    <tr>\n",
       "      <th>1</th>\n",
       "      <td>Kia</td>\n",
       "      <td>Seltos</td>\n",
       "      <td>RXE</td>\n",
       "      <td>Petrol</td>\n",
       "      <td>New</td>\n",
       "      <td>2020.0</td>\n",
       "      <td>Third</td>\n",
       "      <td>79-114-3166</td>\n",
       "      <td>43412.0</td>\n",
       "      <td>505071.0</td>\n",
       "      <td>Automatic</td>\n",
       "      <td>Maroon</td>\n",
       "      <td>Major Service at 131313 km</td>\n",
       "      <td>No Current Insurance</td>\n",
       "      <td>Available</td>\n",
       "      <td>Sunroof</td>\n",
       "    </tr>\n",
       "    <tr>\n",
       "      <th>2</th>\n",
       "      <td>Kia</td>\n",
       "      <td>Accord</td>\n",
       "      <td>RXE</td>\n",
       "      <td>Petrol</td>\n",
       "      <td>New</td>\n",
       "      <td>2022.0</td>\n",
       "      <td>Second</td>\n",
       "      <td>41-358-3344</td>\n",
       "      <td>95219.0</td>\n",
       "      <td>635322.0</td>\n",
       "      <td>Automatic (Tiptronic)</td>\n",
       "      <td>Black</td>\n",
       "      <td>No Service Record</td>\n",
       "      <td>No Current Insurance</td>\n",
       "      <td>Available</td>\n",
       "      <td>Sunroof</td>\n",
       "    </tr>\n",
       "    <tr>\n",
       "      <th>3</th>\n",
       "      <td>Nissan</td>\n",
       "      <td>Seltos</td>\n",
       "      <td>Highline</td>\n",
       "      <td>Diesel</td>\n",
       "      <td>Used</td>\n",
       "      <td>2024.0</td>\n",
       "      <td>Third</td>\n",
       "      <td>92-708-1763</td>\n",
       "      <td>70370.0</td>\n",
       "      <td>483152.0</td>\n",
       "      <td>Automatic (Tiptronic)</td>\n",
       "      <td>Maroon</td>\n",
       "      <td>Major Service at 98115 km</td>\n",
       "      <td>Valid Until [date]</td>\n",
       "      <td>Available</td>\n",
       "      <td>Music System, Alloy Wheels</td>\n",
       "    </tr>\n",
       "    <tr>\n",
       "      <th>4</th>\n",
       "      <td>Chevrolet</td>\n",
       "      <td>Kwid</td>\n",
       "      <td>Highline</td>\n",
       "      <td>Petrol</td>\n",
       "      <td>Used</td>\n",
       "      <td>2018.0</td>\n",
       "      <td>Second</td>\n",
       "      <td>76-154-5485</td>\n",
       "      <td>85852.0</td>\n",
       "      <td>712961.0</td>\n",
       "      <td>Automatic (Tiptronic)</td>\n",
       "      <td>Silver</td>\n",
       "      <td>Major Service at 135665 km</td>\n",
       "      <td>No Current Insurance</td>\n",
       "      <td>Not Available</td>\n",
       "      <td>GPS, Music System</td>\n",
       "    </tr>\n",
       "  </tbody>\n",
       "</table>\n",
       "</div>"
      ],
      "text/plain": [
       "    Company Name Car Name   Variant Fuel Type     Tyre Condition  Make Year  \\\n",
       "0  Maruti Suzuki    Cruze        EX       CNG  Needs Replacement     2018.0   \n",
       "1            Kia   Seltos       RXE    Petrol                New     2020.0   \n",
       "2            Kia   Accord       RXE    Petrol                New     2022.0   \n",
       "3         Nissan   Seltos  Highline    Diesel               Used     2024.0   \n",
       "4      Chevrolet     Kwid  Highline    Petrol               Used     2018.0   \n",
       "\n",
       "  Owner Type Registration Number  Mileage     Price      Transmission Type  \\\n",
       "0     Second         84-436-5584  52798.0  759107.0                 Manual   \n",
       "1      Third         79-114-3166  43412.0  505071.0              Automatic   \n",
       "2     Second         41-358-3344  95219.0  635322.0  Automatic (Tiptronic)   \n",
       "3      Third         92-708-1763  70370.0  483152.0  Automatic (Tiptronic)   \n",
       "4     Second         76-154-5485  85852.0  712961.0  Automatic (Tiptronic)   \n",
       "\n",
       "  Body Color              Service Record             Insurance  \\\n",
       "0       Grey   Major Service at 50418 km  No Current Insurance   \n",
       "1     Maroon  Major Service at 131313 km  No Current Insurance   \n",
       "2      Black           No Service Record  No Current Insurance   \n",
       "3     Maroon   Major Service at 98115 km    Valid Until [date]   \n",
       "4     Silver  Major Service at 135665 km  No Current Insurance   \n",
       "\n",
       "  Registration Certificate                          Accessories  \n",
       "0            Not Available  Music System, Sunroof, Alloy Wheels  \n",
       "1                Available                              Sunroof  \n",
       "2                Available                              Sunroof  \n",
       "3                Available           Music System, Alloy Wheels  \n",
       "4            Not Available                    GPS, Music System  "
      ]
     },
     "execution_count": 1,
     "metadata": {},
     "output_type": "execute_result"
    }
   ],
   "source": [
    "import pandas as pd\n",
    "import matplotlib.pyplot as plt\n",
    "import seaborn as sns\n",
    "\n",
    "# Load your cleaned dataset\n",
    "file_path = '../Data/cleaned_data.csv'\n",
    "df = pd.read_csv(file_path)\n",
    "\n",
    "# Display the first few rows of the dataset\n",
    "df.head()"
   ]
  },
  {
   "cell_type": "code",
   "execution_count": 2,
   "metadata": {},
   "outputs": [
    {
     "name": "stdout",
     "output_type": "stream",
     "text": [
      "   Make Year  Car Age\n",
      "0     2018.0      6.0\n",
      "1     2020.0      4.0\n",
      "2     2022.0      2.0\n",
      "3     2024.0      0.0\n",
      "4     2018.0      6.0\n"
     ]
    }
   ],
   "source": [
    "from datetime import datetime\n",
    "\n",
    "# Assuming the current year is needed for the age calculation\n",
    "current_year = datetime.now().year\n",
    "\n",
    "# Create a new column 'Car Age'\n",
    "df['Car Age'] = current_year - df['Make Year']\n",
    "\n",
    "# Display the first few rows to verify\n",
    "print(df[['Make Year', 'Car Age']].head())\n"
   ]
  },
  {
   "cell_type": "code",
   "execution_count": 3,
   "metadata": {},
   "outputs": [
    {
     "name": "stdout",
     "output_type": "stream",
     "text": [
      "      Price  Mileage  Price per Mile\n",
      "0  759107.0  52798.0       14.377571\n",
      "1  505071.0  43412.0       11.634364\n",
      "2  635322.0  95219.0        6.672219\n",
      "3  483152.0  70370.0        6.865880\n",
      "4  712961.0  85852.0        8.304536\n"
     ]
    }
   ],
   "source": [
    "# Create a new column 'Price per Mile'\n",
    "df['Price per Mile'] = df['Price'] / df['Mileage']\n",
    "\n",
    "# Display the first few rows to verify\n",
    "print(df[['Price', 'Mileage', 'Price per Mile']].head())\n"
   ]
  },
  {
   "cell_type": "code",
   "execution_count": 4,
   "metadata": {},
   "outputs": [
    {
     "name": "stdout",
     "output_type": "stream",
     "text": [
      "      Tyre Condition  Make Year Registration Number  Mileage     Price  \\\n",
      "0  Needs Replacement     2018.0         84-436-5584  52798.0  759107.0   \n",
      "1                New     2020.0         79-114-3166  43412.0  505071.0   \n",
      "2                New     2022.0         41-358-3344  95219.0  635322.0   \n",
      "3               Used     2024.0         92-708-1763  70370.0  483152.0   \n",
      "4               Used     2018.0         76-154-5485  85852.0  712961.0   \n",
      "\n",
      "               Service Record             Insurance Registration Certificate  \\\n",
      "0   Major Service at 50418 km  No Current Insurance            Not Available   \n",
      "1  Major Service at 131313 km  No Current Insurance                Available   \n",
      "2           No Service Record  No Current Insurance                Available   \n",
      "3   Major Service at 98115 km    Valid Until [date]                Available   \n",
      "4  Major Service at 135665 km  No Current Insurance            Not Available   \n",
      "\n",
      "                           Accessories  Car Age  ...  \\\n",
      "0  Music System, Sunroof, Alloy Wheels      6.0  ...   \n",
      "1                              Sunroof      4.0  ...   \n",
      "2                              Sunroof      2.0  ...   \n",
      "3           Music System, Alloy Wheels      0.0  ...   \n",
      "4                    GPS, Music System      6.0  ...   \n",
      "\n",
      "   Transmission Type_Manual  Body Color_Blue  Body Color_Gold  \\\n",
      "0                      True            False            False   \n",
      "1                     False            False            False   \n",
      "2                     False            False            False   \n",
      "3                     False            False            False   \n",
      "4                     False            False            False   \n",
      "\n",
      "   Body Color_Grey  Body Color_Maroon  Body Color_Red  Body Color_Silver  \\\n",
      "0             True              False           False              False   \n",
      "1            False               True           False              False   \n",
      "2            False              False           False              False   \n",
      "3            False               True           False              False   \n",
      "4            False              False           False               True   \n",
      "\n",
      "   Body Color_White  Owner Type_Second  Owner Type_Third  \n",
      "0             False               True             False  \n",
      "1             False              False              True  \n",
      "2             False               True             False  \n",
      "3             False              False              True  \n",
      "4             False               True             False  \n",
      "\n",
      "[5 rows x 50 columns]\n"
     ]
    }
   ],
   "source": [
    "# List of categorical columns to encode\n",
    "categorical_cols = ['Company Name', 'Car Name', 'Variant', 'Fuel Type', 'Transmission Type', 'Body Color', 'Owner Type']\n",
    "\n",
    "# Apply one-hot encoding using pandas get_dummies\n",
    "df_encoded = pd.get_dummies(df, columns=categorical_cols, drop_first=True)\n",
    "\n",
    "# Display the first few rows to verify\n",
    "print(df_encoded.head())\n"
   ]
  },
  {
   "cell_type": "markdown",
   "metadata": {},
   "source": [
    "## Featuer Scaling"
   ]
  },
  {
   "cell_type": "code",
   "execution_count": 5,
   "metadata": {},
   "outputs": [
    {
     "name": "stdout",
     "output_type": "stream",
     "text": [
      "    Car Age   Mileage     Price  Price per Mile\n",
      "0  0.525856 -0.936010  0.653591        0.423144\n",
      "1 -0.165332 -1.105025 -0.446084        0.174142\n",
      "2 -0.856521 -0.172127  0.117749       -0.276273\n",
      "3 -1.547709 -0.619588 -0.540968       -0.258694\n",
      "4  0.525856 -0.340800  0.453834       -0.128107\n"
     ]
    }
   ],
   "source": [
    "from sklearn.preprocessing import StandardScaler\n",
    "\n",
    "# List of numerical columns to standardize\n",
    "numerical_cols = ['Car Age', 'Mileage', 'Price', 'Price per Mile']\n",
    "\n",
    "# Initialize the StandardScaler\n",
    "scaler = StandardScaler()\n",
    "\n",
    "# Apply standardization\n",
    "df_encoded[numerical_cols] = scaler.fit_transform(df_encoded[numerical_cols])\n",
    "\n",
    "# Display the first few rows to verify\n",
    "print(df_encoded[numerical_cols].head())\n"
   ]
  },
  {
   "cell_type": "code",
   "execution_count": 7,
   "metadata": {},
   "outputs": [
    {
     "name": "stdout",
     "output_type": "stream",
     "text": [
      "New dataset saved at ../Data/feature_dataset.csv\n"
     ]
    }
   ],
   "source": [
    "# Save the new dataset with engineered features\n",
    "new_file_path = '../Data/feature_dataset.csv'\n",
    "df_encoded.to_csv(new_file_path, index=False)\n",
    "\n",
    "print(f\"New dataset saved at {new_file_path}\")\n"
   ]
  },
  {
   "cell_type": "code",
   "execution_count": null,
   "metadata": {},
   "outputs": [],
   "source": []
  }
 ],
 "metadata": {
  "kernelspec": {
   "display_name": "Python 3",
   "language": "python",
   "name": "python3"
  },
  "language_info": {
   "codemirror_mode": {
    "name": "ipython",
    "version": 3
   },
   "file_extension": ".py",
   "mimetype": "text/x-python",
   "name": "python",
   "nbconvert_exporter": "python",
   "pygments_lexer": "ipython3",
   "version": "3.12.3"
  }
 },
 "nbformat": 4,
 "nbformat_minor": 2
}
